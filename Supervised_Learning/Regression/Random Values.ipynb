{
 "cells": [
  {
   "cell_type": "code",
   "execution_count": 5,
   "id": "bb017dfd",
   "metadata": {},
   "outputs": [],
   "source": [
    "from numpy import random as rd"
   ]
  },
  {
   "cell_type": "code",
   "execution_count": 6,
   "id": "830feac8",
   "metadata": {},
   "outputs": [
    {
     "name": "stdout",
     "output_type": "stream",
     "text": [
      "35\n"
     ]
    }
   ],
   "source": [
    "# Generate a random integer from 0 to 100:\n",
    "\n",
    "#The randint() method takes a size parameter where you can specify the shape of an array.\n",
    "\n",
    "x=rd.randint(100)\n",
    "print(x)"
   ]
  },
  {
   "cell_type": "code",
   "execution_count": 7,
   "id": "731d5654",
   "metadata": {},
   "outputs": [
    {
     "name": "stdout",
     "output_type": "stream",
     "text": [
      "[[40 53  1 59  7]\n",
      " [97 31 30 74 25]\n",
      " [13  4  0 50 33]]\n"
     ]
    }
   ],
   "source": [
    "# Generate a 2-D array with 3 rows, each row containing 5 random integers from 0 to 100:\n",
    "\n",
    "x=rd.randint(100,size=(3,5))\n",
    "print(x)"
   ]
  },
  {
   "cell_type": "code",
   "execution_count": 8,
   "id": "48cf8547",
   "metadata": {},
   "outputs": [
    {
     "name": "stdout",
     "output_type": "stream",
     "text": [
      "[0.2607321  0.31076943 0.19981029 0.51663457 0.09225804]\n"
     ]
    }
   ],
   "source": [
    "# The rand() method also allows you to specify the shape of the array\n",
    "\n",
    "# Generate a 1-D array containing 5 random floats:\n",
    "\n",
    "x=rd.rand(5) # floats only\n",
    "print(x)"
   ]
  },
  {
   "cell_type": "code",
   "execution_count": 10,
   "id": "50cd75f5",
   "metadata": {},
   "outputs": [
    {
     "name": "stdout",
     "output_type": "stream",
     "text": [
      "[[0.23632963 0.4710972  0.60656348 0.91737165 0.48045087]\n",
      " [0.97013786 0.42249968 0.07381641 0.89022977 0.73702148]\n",
      " [0.0847485  0.96351559 0.21099791 0.97636094 0.79988008]]\n"
     ]
    }
   ],
   "source": [
    "# Generate a 2-D array with 3 rows, each row containing 5 random numbers:\n",
    "\n",
    "x=rd.rand(3,5)\n",
    "print(x)"
   ]
  },
  {
   "cell_type": "code",
   "execution_count": 13,
   "id": "9c309352",
   "metadata": {},
   "outputs": [
    {
     "name": "stdout",
     "output_type": "stream",
     "text": [
      "[[4 3 2 2 2]\n",
      " [6 5 6 6 6]\n",
      " [5 6 3 3 4]]\n"
     ]
    }
   ],
   "source": [
    "# The choice() method also allows you to return an array of values.\n",
    "\n",
    "      #choice(<1 D array >,<size>)\n",
    "\n",
    "array=rd.choice([2,3,4,5,6],size=(3,5))\n",
    "print(array)\n",
    "\n"
   ]
  },
  {
   "cell_type": "code",
   "execution_count": null,
   "id": "3247865d",
   "metadata": {},
   "outputs": [],
   "source": []
  }
 ],
 "metadata": {
  "kernelspec": {
   "display_name": "Python 3 (ipykernel)",
   "language": "python",
   "name": "python3"
  },
  "language_info": {
   "codemirror_mode": {
    "name": "ipython",
    "version": 3
   },
   "file_extension": ".py",
   "mimetype": "text/x-python",
   "name": "python",
   "nbconvert_exporter": "python",
   "pygments_lexer": "ipython3",
   "version": "3.9.13"
  }
 },
 "nbformat": 4,
 "nbformat_minor": 5
}
