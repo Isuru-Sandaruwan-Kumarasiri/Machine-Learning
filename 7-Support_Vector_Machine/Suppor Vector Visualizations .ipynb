{
 "cells": [
  {
   "cell_type": "markdown",
   "id": "a6f47f9f",
   "metadata": {},
   "source": [
    "###  Load the libraries that are required for this project"
   ]
  },
  {
   "cell_type": "code",
   "execution_count": 5,
   "id": "69a3ac54",
   "metadata": {},
   "outputs": [],
   "source": [
    "'''\n",
    "\n",
    "    plt.rcParams is a dictionary-like object in Matplotlib that allows you to customize global settings.\n",
    "    The above lines adjust the font sizes:\n",
    "    axis.labelsize = 14: Sets the font size of axis labels (x-axis and y-axis labels).\n",
    "    xtick.labelsize = 12: Sets the font size of x-axis tick labels.\n",
    "    ytick.labelsize = 12: Sets the font size of y-axis tick labels.\n",
    "    \n",
    "    \n",
    "'''\n",
    "\n",
    "\n",
    "\n",
    "import numpy as np\n",
    "import matplotlib.pyplot as plt\n",
    "\n",
    "# let us setup the font size\n",
    "plt.rcParams[\"axes.labelsize\"]=14\n",
    "plt.rcParams[\"xtick.labelsize\"]=12\n",
    "plt.rcParams[\"ytick.labelsize\"]=12\n",
    "\n",
    "\n"
   ]
  },
  {
   "cell_type": "code",
   "execution_count": null,
   "id": "3124c056",
   "metadata": {},
   "outputs": [],
   "source": []
  }
 ],
 "metadata": {
  "kernelspec": {
   "display_name": "Python 3 (ipykernel)",
   "language": "python",
   "name": "python3"
  },
  "language_info": {
   "codemirror_mode": {
    "name": "ipython",
    "version": 3
   },
   "file_extension": ".py",
   "mimetype": "text/x-python",
   "name": "python",
   "nbconvert_exporter": "python",
   "pygments_lexer": "ipython3",
   "version": "3.9.13"
  }
 },
 "nbformat": 4,
 "nbformat_minor": 5
}
