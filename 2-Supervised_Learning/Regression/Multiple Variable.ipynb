{
 "cells": [
  {
   "cell_type": "code",
   "execution_count": 1,
   "id": "bf45d8bc",
   "metadata": {},
   "outputs": [],
   "source": [
    "import numpy as np\n",
    "import pandas as pd\n",
    "from sklearn.linear_model import LinearRegression"
   ]
  },
  {
   "cell_type": "code",
   "execution_count": 2,
   "id": "8ac1f19b",
   "metadata": {},
   "outputs": [
    {
     "data": {
      "text/html": [
       "<div>\n",
       "<style scoped>\n",
       "    .dataframe tbody tr th:only-of-type {\n",
       "        vertical-align: middle;\n",
       "    }\n",
       "\n",
       "    .dataframe tbody tr th {\n",
       "        vertical-align: top;\n",
       "    }\n",
       "\n",
       "    .dataframe thead th {\n",
       "        text-align: right;\n",
       "    }\n",
       "</style>\n",
       "<table border=\"1\" class=\"dataframe\">\n",
       "  <thead>\n",
       "    <tr style=\"text-align: right;\">\n",
       "      <th></th>\n",
       "      <th>Unnamed: 0</th>\n",
       "      <th>subscribers</th>\n",
       "      <th>videos</th>\n",
       "      <th>views</th>\n",
       "      <th>days</th>\n",
       "    </tr>\n",
       "  </thead>\n",
       "  <tbody>\n",
       "    <tr>\n",
       "      <th>0</th>\n",
       "      <td>chanel 01</td>\n",
       "      <td>1800</td>\n",
       "      <td>30</td>\n",
       "      <td>34000</td>\n",
       "      <td>150</td>\n",
       "    </tr>\n",
       "    <tr>\n",
       "      <th>1</th>\n",
       "      <td>chanel 02</td>\n",
       "      <td>1950</td>\n",
       "      <td>40</td>\n",
       "      <td>41000</td>\n",
       "      <td>212</td>\n",
       "    </tr>\n",
       "    <tr>\n",
       "      <th>2</th>\n",
       "      <td>chanel 03</td>\n",
       "      <td>2100</td>\n",
       "      <td>50</td>\n",
       "      <td>42500</td>\n",
       "      <td>179</td>\n",
       "    </tr>\n",
       "    <tr>\n",
       "      <th>3</th>\n",
       "      <td>chanel 04</td>\n",
       "      <td>4300</td>\n",
       "      <td>60</td>\n",
       "      <td>54300</td>\n",
       "      <td>346</td>\n",
       "    </tr>\n",
       "    <tr>\n",
       "      <th>4</th>\n",
       "      <td>chanel 05</td>\n",
       "      <td>4200</td>\n",
       "      <td>70</td>\n",
       "      <td>56000</td>\n",
       "      <td>280</td>\n",
       "    </tr>\n",
       "  </tbody>\n",
       "</table>\n",
       "</div>"
      ],
      "text/plain": [
       "  Unnamed: 0  subscribers  videos  views  days\n",
       "0  chanel 01         1800      30  34000   150\n",
       "1  chanel 02         1950      40  41000   212\n",
       "2  chanel 03         2100      50  42500   179\n",
       "3  chanel 04         4300      60  54300   346\n",
       "4  chanel 05         4200      70  56000   280"
      ]
     },
     "execution_count": 2,
     "metadata": {},
     "output_type": "execute_result"
    }
   ],
   "source": [
    "data=pd.read_csv('views_2.csv')\n",
    "data"
   ]
  },
  {
   "cell_type": "code",
   "execution_count": 3,
   "id": "c2162463",
   "metadata": {},
   "outputs": [
    {
     "data": {
      "text/plain": [
       "LinearRegression()"
      ]
     },
     "execution_count": 3,
     "metadata": {},
     "output_type": "execute_result"
    }
   ],
   "source": [
    "# create the model\n",
    "model=LinearRegression()\n",
    "model.fit(data[['subscribers','videos','days']],data.views) # train the data\n",
    "# x values must be entered as 2 dimonsional "
   ]
  },
  {
   "cell_type": "code",
   "execution_count": 4,
   "id": "b215c296",
   "metadata": {},
   "outputs": [
    {
     "name": "stderr",
     "output_type": "stream",
     "text": [
      "C:\\Users\\Isuru sandaruwan\\anaconda3\\lib\\site-packages\\sklearn\\base.py:450: UserWarning: X does not have valid feature names, but LinearRegression was fitted with feature names\n",
      "  warnings.warn(\n"
     ]
    },
    {
     "data": {
      "text/plain": [
       "array([38113.83155554])"
      ]
     },
     "execution_count": 4,
     "metadata": {},
     "output_type": "execute_result"
    }
   ],
   "source": [
    "# predict value\n",
    "model.predict([[3100,45,100]])"
   ]
  },
  {
   "cell_type": "code",
   "execution_count": 5,
   "id": "1c6a652e",
   "metadata": {},
   "outputs": [
    {
     "data": {
      "text/plain": [
       "array([3.54006782e-01, 3.81732131e+02, 4.21209097e+01])"
      ]
     },
     "execution_count": 5,
     "metadata": {},
     "output_type": "execute_result"
    }
   ],
   "source": [
    "# y= m1x1 + m2x2 + m3X3 to find  m1,m2,m3\n",
    "\n",
    "model.coef_"
   ]
  },
  {
   "cell_type": "code",
   "execution_count": 7,
   "id": "a3eb4dfa",
   "metadata": {},
   "outputs": [
    {
     "data": {
      "text/plain": [
       "15626.373669488261"
      ]
     },
     "execution_count": 7,
     "metadata": {},
     "output_type": "execute_result"
    }
   ],
   "source": [
    "# to find c\n",
    "model.intercept_"
   ]
  },
  {
   "cell_type": "code",
   "execution_count": 8,
   "id": "c7e61da3",
   "metadata": {},
   "outputs": [],
   "source": [
    "y_new=model.coef_[0]*3100+model.coef_[1]*45+model.coef_[2]*100+model.intercept_"
   ]
  },
  {
   "cell_type": "code",
   "execution_count": 9,
   "id": "fa747708",
   "metadata": {},
   "outputs": [
    {
     "data": {
      "text/plain": [
       "38113.83155554056"
      ]
     },
     "execution_count": 9,
     "metadata": {},
     "output_type": "execute_result"
    }
   ],
   "source": [
    "y_new"
   ]
  },
  {
   "cell_type": "code",
   "execution_count": null,
   "id": "7fd075d1",
   "metadata": {},
   "outputs": [],
   "source": []
  }
 ],
 "metadata": {
  "kernelspec": {
   "display_name": "Python 3 (ipykernel)",
   "language": "python",
   "name": "python3"
  },
  "language_info": {
   "codemirror_mode": {
    "name": "ipython",
    "version": 3
   },
   "file_extension": ".py",
   "mimetype": "text/x-python",
   "name": "python",
   "nbconvert_exporter": "python",
   "pygments_lexer": "ipython3",
   "version": "3.9.13"
  }
 },
 "nbformat": 4,
 "nbformat_minor": 5
}
