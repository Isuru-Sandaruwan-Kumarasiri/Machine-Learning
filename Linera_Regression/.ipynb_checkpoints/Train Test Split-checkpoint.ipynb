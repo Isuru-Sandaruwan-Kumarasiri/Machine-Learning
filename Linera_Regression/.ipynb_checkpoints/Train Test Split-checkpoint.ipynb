{
 "cells": [
  {
   "cell_type": "code",
   "execution_count": 1,
   "id": "cbad444b",
   "metadata": {},
   "outputs": [],
   "source": [
    "from numpy import random as rd\n",
    "import numpy as np\n",
    "from sklearn.model_selection import train_test_split"
   ]
  },
  {
   "cell_type": "code",
   "execution_count": 3,
   "id": "f357837b",
   "metadata": {},
   "outputs": [
    {
     "name": "stdout",
     "output_type": "stream",
     "text": [
      "[13 10 93 72 95 35 82 73 81  9 55 96 96 89 85 80 95 81 90 65]\n",
      "[42 62 42 27 77 28 74 28 10  3 51 83 84 18 91 31 36 15 82 93]\n"
     ]
    }
   ],
   "source": [
    "x=rd.randint(100,size=20) # return 1 D array  with random iteger\n",
    "y=rd.randint(100,size=20)\n",
    "print(x)\n",
    "print(y)"
   ]
  },
  {
   "cell_type": "code",
   "execution_count": 4,
   "id": "8acfd15d",
   "metadata": {},
   "outputs": [],
   "source": [
    "# 75 % data splits  from data set as the default   \n",
    "x_train,x_test,y_train,y_test=train_test_split(x,y)"
   ]
  },
  {
   "cell_type": "code",
   "execution_count": 6,
   "id": "e021f270",
   "metadata": {},
   "outputs": [
    {
     "name": "stdout",
     "output_type": "stream",
     "text": [
      "[55 93 72 81 85 73 95  9 96 90 80 65 35 13 82]\n",
      "15\n"
     ]
    }
   ],
   "source": [
    "print(x_train)\n",
    "print(len(x_train))"
   ]
  },
  {
   "cell_type": "code",
   "execution_count": 7,
   "id": "31160327",
   "metadata": {},
   "outputs": [
    {
     "name": "stdout",
     "output_type": "stream",
     "text": [
      "[81 80 35 10 85 55 73 90  9 95 89 65 13 96 81 82]\n",
      "16\n"
     ]
    }
   ],
   "source": [
    "# we can change the test size of the array using <test_size> keyword\n",
    "# test_size must be include 0 to 1 because it is a propertion\n",
    "\n",
    "x_train,x_test,y_train,y_test=train_test_split(x,y,test_size=0.2)\n",
    "print(x_train)\n",
    "print(len(x_train))\n"
   ]
  },
  {
   "cell_type": "code",
   "execution_count": 9,
   "id": "88e7b6b4",
   "metadata": {},
   "outputs": [
    {
     "name": "stdout",
     "output_type": "stream",
     "text": [
      "[96 10 96 55 89 90 73 95 81  9 13 95 82 80 85 72]\n",
      "16\n"
     ]
    }
   ],
   "source": [
    "'''\n",
    "<random_state> = random_state is reffer to get the same random values \n",
    "                 when you run the same train_test_split line\n",
    "'''\n",
    "\n",
    "\n",
    "x_train,x_test,y_train,y_test=train_test_split(x,y,test_size=0.2,random_state=5)\n",
    "print(x_train)\n",
    "print(len(x_train))\n"
   ]
  },
  {
   "cell_type": "code",
   "execution_count": 11,
   "id": "c2581412",
   "metadata": {},
   "outputs": [
    {
     "name": "stdout",
     "output_type": "stream",
     "text": [
      "[13 10 93 72 95 35 82 73 81  9 55 96 96 89 85 80]\n",
      "16\n"
     ]
    }
   ],
   "source": [
    "'''\n",
    " <suffle> = default value is True.\n",
    "            this is used to avoid shuffle \n",
    "'''\n",
    "\n",
    "x_train,x_test,y_train,y_test=train_test_split(x,y,test_size=0.2,random_state=5,shuffle=False)\n",
    "print(x_train)\n",
    "print(len(x_train))"
   ]
  },
  {
   "cell_type": "code",
   "execution_count": null,
   "id": "f42428df",
   "metadata": {},
   "outputs": [],
   "source": []
  }
 ],
 "metadata": {
  "kernelspec": {
   "display_name": "Python 3 (ipykernel)",
   "language": "python",
   "name": "python3"
  },
  "language_info": {
   "codemirror_mode": {
    "name": "ipython",
    "version": 3
   },
   "file_extension": ".py",
   "mimetype": "text/x-python",
   "name": "python",
   "nbconvert_exporter": "python",
   "pygments_lexer": "ipython3",
   "version": "3.9.13"
  }
 },
 "nbformat": 4,
 "nbformat_minor": 5
}
